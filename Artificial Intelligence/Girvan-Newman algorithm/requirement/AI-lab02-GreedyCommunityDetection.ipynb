{
 "cells": [
  {
   "cell_type": "markdown",
   "source": [
    "# Tehnica Greedy"
   ],
   "metadata": {}
  },
  {
   "cell_type": "markdown",
   "source": [
    "## Obiective\r\n",
    "- Formularea problemelor ca probleme de căutare şi identificarea modalităţilor de rezolvare a lor. \r\n",
    "- Specificarea, proiectarea şi implementarea metodelor de căutare euristice.\r\n",
    "\r\n",
    "## Cuvinte cheie\r\n",
    "- cautare\r\n",
    "- euristica\r\n",
    "- best solution"
   ],
   "metadata": {}
  },
  {
   "cell_type": "markdown",
   "source": [
    "## Aspecte teoretice"
   ],
   "metadata": {}
  },
  {
   "cell_type": "markdown",
   "source": [
    "Informații privind metoda Greedy propusa de Newman - Newman, M. E. (2004). Fast algorithm for detecting community structure in networks. Physical review E, 69(6), 066133. [link](https://arxiv.org/pdf/cond-mat/0309508.pdf)"
   ],
   "metadata": {}
  },
  {
   "cell_type": "markdown",
   "source": [
    "## Exemple"
   ],
   "metadata": {}
  },
  {
   "cell_type": "markdown",
   "source": [
    "### Demo1"
   ],
   "metadata": {}
  },
  {
   "cell_type": "markdown",
   "source": [
    "#### Problema identificării comunităților într-o rețea complexă\r\n",
    "\r\n",
    "Descoperirea și analiza comunităților în rețele este o temă larg dezbătută în sociologie, biologie și informatică. Rețelele complexe reprezintă suportul pentru diferite sisteme reale (facebook, sistemul imun, creierul, infrastrcutura de transport, etc.). O comunitate în aceste rețele este definită ca un grup de noduri dens conectate unele cu altele, dar puțin conectate cu noduri din alte comunități. \r\n",
    "\r\n",
    "**Metodologie de rezolvare**\r\n",
    "- citire date retea si vizualizarea retea\r\n",
    "- identificare comunitati si vuzualizarea lor\r\n"
   ],
   "metadata": {}
  },
  {
   "cell_type": "code",
   "execution_count": 102,
   "source": [
    "# prerequisites\r\n",
    "import os \r\n",
    "import numpy as np \r\n",
    "import networkx as nx\r\n",
    "import matplotlib.pyplot as plt \r\n",
    "import warnings \r\n",
    "\r\n",
    "from networkx.algorithms import community\r\n",
    "\r\n",
    "warnings.simplefilter('ignore')\r\n"
   ],
   "outputs": [],
   "metadata": {}
  },
  {
   "cell_type": "markdown",
   "source": [
    "#### Pasul 1 - citire date si vizualizare"
   ],
   "metadata": {}
  },
  {
   "cell_type": "code",
   "execution_count": 103,
   "source": [
    "# read the network details\r\n",
    "def readNet(fileName):\r\n",
    "    f = open(fileName, \"r\")\r\n",
    "    net = {}\r\n",
    "    n = int(f.readline())\r\n",
    "    net['noNodes'] = n\r\n",
    "    mat = []\r\n",
    "    for i in range(n):\r\n",
    "        mat.append([])\r\n",
    "        line = f.readline()\r\n",
    "        elems = line.split(\" \")\r\n",
    "        for j in range(n):\r\n",
    "            mat[-1].append(int(elems[j]))\r\n",
    "    net[\"mat\"] = mat \r\n",
    "    degrees = []\r\n",
    "    noEdges = 0\r\n",
    "    for i in range(n):\r\n",
    "        d = 0\r\n",
    "        for j in range(n):\r\n",
    "            if (mat[i][j] == 1):\r\n",
    "                d += 1\r\n",
    "            if (j > i):\r\n",
    "                noEdges += mat[i][j]\r\n",
    "        degrees.append(d)\r\n",
    "    net[\"noEdges\"] = noEdges\r\n",
    "    net[\"degrees\"] = degrees\r\n",
    "    f.close()\r\n",
    "    return net\r\n"
   ],
   "outputs": [],
   "metadata": {}
  },
  {
   "cell_type": "code",
   "execution_count": 104,
   "source": [
    "# plot a network \r\n",
    "def plotNetwork(network, communities = [1, 1, 1, 1, 1, 1]):\r\n",
    "    np.random.seed(123) #to freeze the graph's view (networks uses a random view)\r\n",
    "    A=np.matrix(network[\"mat\"])\r\n",
    "    G=nx.from_numpy_matrix(A)\r\n",
    "    pos = nx.spring_layout(G)  # compute graph layout\r\n",
    "    plt.figure(figsize=(4, 4))  # image is 8 x 8 inches \r\n",
    "    nx.draw_networkx_nodes(G, pos, node_size=600, cmap=plt.cm.RdYlBu, node_color = communities)\r\n",
    "    nx.draw_networkx_edges(G, pos, alpha=0.3)\r\n",
    "    plt.show(G)\r\n"
   ],
   "outputs": [],
   "metadata": {}
  },
  {
   "cell_type": "code",
   "execution_count": 105,
   "source": [
    "# load a network\r\n",
    "crtDir =  os.getcwd()\r\n",
    "filePath = os.path.join(crtDir,  'data', 'net.in')\r\n",
    "network = readNet(filePath)\r\n",
    "\r\n",
    "#plot the network\r\n",
    "plotNetwork(network)"
   ],
   "outputs": [
    {
     "output_type": "display_data",
     "data": {
      "image/png": "[encoded data removed]",
      "text/plain": [
       "<Figure size 288x288 with 1 Axes>"
      ]
     },
     "metadata": {}
    }
   ],
   "metadata": {}
  },
  {
   "cell_type": "markdown",
   "source": [
    "#### Pasul 2 - identificare comunitati si vizualizare"
   ],
   "metadata": {}
  },
  {
   "cell_type": "code",
   "execution_count": 106,
   "source": [
    "# plot a particular (mock) division in communities\r\n",
    "mockCommunities = [1,2,1,2,1, 1]\r\n",
    "plotNetwork(network, mockCommunities)"
   ],
   "outputs": [
    {
     "output_type": "display_data",
     "data": {
      "image/png": "[encoded data removed]",
      "text/plain": [
       "<Figure size 288x288 with 1 Axes>"
      ]
     },
     "metadata": {}
    }
   ],
   "metadata": {}
  },
  {
   "cell_type": "code",
   "execution_count": 109,
   "source": [
    "# identify the communities (by a tool) and plot them\r\n",
    "\r\n",
    "def greedyCommunitiesDetectionByTool(network):\r\n",
    "    # Input: a graph\r\n",
    "    # Output: list of comunity index (for every node)\r\n",
    "\r\n",
    "    from networkx.algorithms import community\r\n",
    "\r\n",
    "    A=np.matrix(network[\"mat\"])\r\n",
    "    G=nx.from_numpy_matrix(A)\r\n",
    "    communities_generator = community.girvan_newman(G)\r\n",
    "    top_level_communities = next(communities_generator)\r\n",
    "    sorted(map(sorted, top_level_communities))\r\n",
    "    communities = [0 for node in range(network['noNodes'])]\r\n",
    "    index = 1\r\n",
    "    for community in sorted(map(sorted, top_level_communities)):\r\n",
    "        for node in community:\r\n",
    "            communities[node] = index\r\n",
    "        index += 1\r\n",
    "    return communities\r\n",
    "\r\n",
    "plotNetwork(network, greedyCommunitiesDetectionByTool(network))\r\n"
   ],
   "outputs": [
    {
     "output_type": "display_data",
     "data": {
      "image/png": "[encoded data removed]",
      "text/plain": [
       "<Figure size 288x288 with 1 Axes>"
      ]
     },
     "metadata": {}
    }
   ],
   "metadata": {}
  },
  {
   "cell_type": "markdown",
   "source": [
    "## Tema"
   ],
   "metadata": {}
  },
  {
   "cell_type": "markdown",
   "source": [
    "\r\n",
    "Se cere identificarea comunităților existente într-o rețea folosind un algoritm Greedy. Se vor folosi:\r\n",
    "- informații privind metoda Greedy propusa de Newman - Newman, M. E. (2004). Fast algorithm for detecting community structure in networks. Physical review E, 69(6), 066133. [link](https://arxiv.org/pdf/cond-mat/0309508.pdf)\r\n",
    "- reteaua sociala dezvoltata semestrul trecut la MAP (cu construirea in prealabil a grafului corespunzator ei)\r\n",
    "- cele 4 rețele / seturi de date din folderul asociat laboratorului current (in format GML – more details [here](https://www.fim.uni-passau.de/fileadmin/dokumente/fakultaeten/fim/lehrstuhl/rutter/abschlussarbeiten/ba-goetz.pdf))\r\n",
    "-\trețele / seturi de date identificate de student \r\n",
    "\r\n",
    "Aplicaţia (specificata, proiectata si implementata) trebuie să permită:\r\n",
    "-\tÎncărcarea datelor problemei \r\n",
    "-\tAlegerea şi parametrizarea metodei de rezolvare a problemei\r\n",
    "-\tAfişarea soluţiei identificate\r\n",
    "-\tPrecizarea performanţelor metodei de rezolvare alese\r\n",
    "\r\n",
    "Aplicația trebuie să respecte specificațiile privind datele de intrare și datele de ieșire.\r\n",
    "\r\n",
    "Aplicația va fi testată folosind date de difcultăți diferite (fiecare test validat având asociat un anumit punctaj).\r\n",
    "\r\n",
    "Datele de intrare sunt reprezentate de:\r\n",
    "-\tgraful retelei\r\n",
    "-\tparametrii algoritmului\r\n",
    "\r\n",
    "Datele de iesire sunt reprezentate de:\r\n",
    "-\tnumarul de comunitati identificate in graf\r\n",
    "-\tapartenenta la o anumita comunitate pentru fiecare nod al grafului/retelei\r\n"
   ],
   "metadata": {}
  },
  {
   "cell_type": "code",
   "execution_count": null,
   "source": [
    "# identify the communities (by your own code) and plot them\r\n",
    "\r\n",
    "def greedyCommunitiesDetection(network):\r\n",
    "    # Input: a graph\r\n",
    "    # Output: list of comunity index (for every node)\r\n",
    "\r\n",
    "    # TODOS\r\n",
    "    pass\r\n",
    "\r\n",
    "plotNetwork(network, greedyCommunitiesDetection(network))"
   ],
   "outputs": [],
   "metadata": {}
  }
 ],
 "metadata": {
  "orig_nbformat": 4,
  "language_info": {
   "name": "python",
   "version": "3.7.2",
   "mimetype": "text/x-python",
   "codemirror_mode": {
    "name": "ipython",
    "version": 3
   },
   "pygments_lexer": "ipython3",
   "nbconvert_exporter": "python",
   "file_extension": ".py"
  },
  "kernelspec": {
   "name": "python3",
   "display_name": "Python 3.7.2 64-bit ('myenv': venv)"
  },
  "interpreter": {
   "hash": "e9dc543f66030a8dac45661f55ca2fb15f567084184f0424c1f0b6ed578c96be"
  }
 },
 "nbformat": 4,
 "nbformat_minor": 2
}